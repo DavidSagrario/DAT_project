{
 "cells": [
  {
   "cell_type": "code",
   "execution_count": 1,
   "metadata": {},
   "outputs": [],
   "source": [
    "import pandas as pd\n",
    "import numpy as np\n",
    "import requests\n",
    "from bs4 import BeautifulSoup\n",
    "from time import sleep, strftime\n",
    "import random\n",
    "from random import randint\n",
    "from selenium import webdriver"
   ]
  },
  {
   "cell_type": "code",
   "execution_count": 2,
   "metadata": {},
   "outputs": [],
   "source": [
    "df_cars = pd.DataFrame(columns = ['brand','model', 'color', 'price','fuel','transmission','km','year', 'power', 'doors', 'seats', 'location'])"
   ]
  },
  {
   "cell_type": "code",
   "execution_count": 3,
   "metadata": {},
   "outputs": [],
   "source": [
    "chrome_driver = r\"C:\\Users\\David Sagrario\\Desktop\\Bootcamp\\chromedriver.exe\"\n",
    "driver = webdriver.Chrome(executable_path = chrome_driver)"
   ]
  },
  {
   "cell_type": "code",
   "execution_count": 4,
   "metadata": {},
   "outputs": [],
   "source": [
    "driver.get('https://niw.es/es')\n",
    "\n",
    "sleep(5)\n",
    "\n",
    "try:\n",
    "    driver.find_element_by_xpath('//*[@id=\"didomi-notice-agree-button\"]').click()\n",
    "    sleep(randint(2,5))\n",
    "\n",
    "except:\n",
    "    pass\n",
    "\n",
    "sleep(randint(2,5))\n",
    "\n",
    "driver.find_element_by_xpath('//*[@id=\"animation-search\"]/div[2]/div[2]/div[2]/div/div/button[1]').click()\n",
    "\n",
    "sleep(randint(2,5))\n",
    "\n",
    "try:\n",
    "    cp = driver.find_element_by_xpath('//*[@id=\"mdx-zip_loc-zip-popup\"]')\n",
    "    sleep(randint(2,5))\n",
    "    cp.clear()\n",
    "    cp.send_keys(28008)\n",
    "    sleep(randint(2,5))\n",
    "    cp.submit()\n",
    "    sleep(randint(2,5))\n",
    "\n",
    "except:\n",
    "    pass\n",
    "\n",
    "try:    \n",
    "    driver.find_element_by_xpath('/html/body/div[2]/div[2]/div/div/div').click()\n",
    "\n",
    "except:    \n",
    "    pass\n",
    "\n",
    "try:\n",
    "    driver.find_element_by_xpath('//*[@id=\"resetFiltersTop\"]').click()\n",
    "\n",
    "except:\n",
    "    pass    "
   ]
  },
  {
   "cell_type": "code",
   "execution_count": 5,
   "metadata": {
    "scrolled": true
   },
   "outputs": [
    {
     "name": "stdout",
     "output_type": "stream",
     "text": [
      "(0, 12)\n",
      "page 1\n"
     ]
    },
    {
     "ename": "IndexError",
     "evalue": "list index out of range",
     "output_type": "error",
     "traceback": [
      "\u001b[1;31m---------------------------------------------------------------------------\u001b[0m",
      "\u001b[1;31mIndexError\u001b[0m                                Traceback (most recent call last)",
      "\u001b[1;32m<ipython-input-5-9105d960ceeb>\u001b[0m in \u001b[0;36m<module>\u001b[1;34m\u001b[0m\n\u001b[0;32m     41\u001b[0m         \u001b[0mdoors\u001b[0m \u001b[1;33m=\u001b[0m \u001b[0mstr\u001b[0m\u001b[1;33m(\u001b[0m\u001b[0mall_cars\u001b[0m\u001b[1;33m[\u001b[0m\u001b[1;36m0\u001b[0m\u001b[1;33m]\u001b[0m\u001b[1;33m.\u001b[0m\u001b[0mfind_all\u001b[0m\u001b[1;33m(\u001b[0m\u001b[0mclass_\u001b[0m\u001b[1;33m=\u001b[0m\u001b[1;34m'inline-block s70 m75 l80 text-left'\u001b[0m\u001b[1;33m)\u001b[0m\u001b[1;33m)\u001b[0m\u001b[1;33m.\u001b[0m\u001b[0msplit\u001b[0m\u001b[1;33m(\u001b[0m\u001b[1;34m','\u001b[0m\u001b[1;33m)\u001b[0m\u001b[1;33m[\u001b[0m\u001b[1;36m6\u001b[0m\u001b[1;33m]\u001b[0m\u001b[1;33m.\u001b[0m\u001b[0msplit\u001b[0m\u001b[1;33m(\u001b[0m\u001b[1;34m'<'\u001b[0m\u001b[1;33m)\u001b[0m\u001b[1;33m[\u001b[0m\u001b[1;36m1\u001b[0m\u001b[1;33m]\u001b[0m\u001b[1;33m.\u001b[0m\u001b[0msplit\u001b[0m\u001b[1;33m(\u001b[0m\u001b[1;34m'>'\u001b[0m\u001b[1;33m)\u001b[0m\u001b[1;33m[\u001b[0m\u001b[1;33m-\u001b[0m\u001b[1;36m1\u001b[0m\u001b[1;33m]\u001b[0m\u001b[1;33m.\u001b[0m\u001b[0mstrip\u001b[0m\u001b[1;33m(\u001b[0m\u001b[1;34m' Puertas'\u001b[0m\u001b[1;33m)\u001b[0m\u001b[1;33m\u001b[0m\u001b[1;33m\u001b[0m\u001b[0m\n\u001b[0;32m     42\u001b[0m         \u001b[0mseats\u001b[0m \u001b[1;33m=\u001b[0m \u001b[0mstr\u001b[0m\u001b[1;33m(\u001b[0m\u001b[0mall_cars\u001b[0m\u001b[1;33m[\u001b[0m\u001b[1;36m0\u001b[0m\u001b[1;33m]\u001b[0m\u001b[1;33m.\u001b[0m\u001b[0mfind_all\u001b[0m\u001b[1;33m(\u001b[0m\u001b[0mclass_\u001b[0m\u001b[1;33m=\u001b[0m\u001b[1;34m'inline-block s70 m75 l80 text-left'\u001b[0m\u001b[1;33m)\u001b[0m\u001b[1;33m)\u001b[0m\u001b[1;33m.\u001b[0m\u001b[0msplit\u001b[0m\u001b[1;33m(\u001b[0m\u001b[1;34m','\u001b[0m\u001b[1;33m)\u001b[0m\u001b[1;33m[\u001b[0m\u001b[1;36m7\u001b[0m\u001b[1;33m]\u001b[0m\u001b[1;33m.\u001b[0m\u001b[0msplit\u001b[0m\u001b[1;33m(\u001b[0m\u001b[1;34m'<'\u001b[0m\u001b[1;33m)\u001b[0m\u001b[1;33m[\u001b[0m\u001b[1;36m1\u001b[0m\u001b[1;33m]\u001b[0m\u001b[1;33m.\u001b[0m\u001b[0msplit\u001b[0m\u001b[1;33m(\u001b[0m\u001b[1;34m'>'\u001b[0m\u001b[1;33m)\u001b[0m\u001b[1;33m[\u001b[0m\u001b[1;33m-\u001b[0m\u001b[1;36m1\u001b[0m\u001b[1;33m]\u001b[0m\u001b[1;33m.\u001b[0m\u001b[0mstrip\u001b[0m\u001b[1;33m(\u001b[0m\u001b[1;34m' Plazas'\u001b[0m\u001b[1;33m)\u001b[0m\u001b[1;33m\u001b[0m\u001b[1;33m\u001b[0m\u001b[0m\n\u001b[1;32m---> 43\u001b[1;33m         \u001b[0mlocation\u001b[0m \u001b[1;33m=\u001b[0m \u001b[0mstr\u001b[0m\u001b[1;33m(\u001b[0m\u001b[0mall_cars\u001b[0m\u001b[1;33m[\u001b[0m\u001b[1;36m0\u001b[0m\u001b[1;33m]\u001b[0m\u001b[1;33m.\u001b[0m\u001b[0mfind_all\u001b[0m\u001b[1;33m(\u001b[0m\u001b[0mclass_\u001b[0m\u001b[1;33m=\u001b[0m\u001b[1;34m'inline-block s70 m75 l80 text-left'\u001b[0m\u001b[1;33m)\u001b[0m\u001b[1;33m)\u001b[0m\u001b[1;33m.\u001b[0m\u001b[0msplit\u001b[0m\u001b[1;33m(\u001b[0m\u001b[1;34m','\u001b[0m\u001b[1;33m)\u001b[0m\u001b[1;33m[\u001b[0m\u001b[1;36m8\u001b[0m\u001b[1;33m]\u001b[0m\u001b[1;33m.\u001b[0m\u001b[0msplit\u001b[0m\u001b[1;33m(\u001b[0m\u001b[1;34m'<'\u001b[0m\u001b[1;33m)\u001b[0m\u001b[1;33m[\u001b[0m\u001b[1;36m1\u001b[0m\u001b[1;33m]\u001b[0m\u001b[1;33m.\u001b[0m\u001b[0msplit\u001b[0m\u001b[1;33m(\u001b[0m\u001b[1;34m'>'\u001b[0m\u001b[1;33m)\u001b[0m\u001b[1;33m[\u001b[0m\u001b[1;33m-\u001b[0m\u001b[1;36m1\u001b[0m\u001b[1;33m]\u001b[0m\u001b[1;33m\u001b[0m\u001b[1;33m\u001b[0m\u001b[0m\n\u001b[0m\u001b[0;32m     44\u001b[0m \u001b[1;33m\u001b[0m\u001b[0m\n\u001b[0;32m     45\u001b[0m         \u001b[0msleep\u001b[0m\u001b[1;33m(\u001b[0m\u001b[0mrandint\u001b[0m\u001b[1;33m(\u001b[0m\u001b[1;36m2\u001b[0m\u001b[1;33m,\u001b[0m\u001b[1;36m5\u001b[0m\u001b[1;33m)\u001b[0m\u001b[1;33m)\u001b[0m\u001b[1;33m\u001b[0m\u001b[1;33m\u001b[0m\u001b[0m\n",
      "\u001b[1;31mIndexError\u001b[0m: list index out of range"
     ]
    }
   ],
   "source": [
    "for i in range(1,2025):\n",
    "    \n",
    "    id_list = []\n",
    "    \n",
    "    response = driver.page_source\n",
    "\n",
    "    soup = BeautifulSoup(response, \"html.parser\")\n",
    "    all_cars = soup.find_all(class_=\"vehicle column l25 m33 s100\")\n",
    "    print(df_cars.shape)\n",
    "    print('page',i)\n",
    "    \n",
    "    for i in range(len(all_cars)):\n",
    "        ids = str(all_cars[i]).split('id=')[1].split('\"')[1].strip()\n",
    "        if ids == 'vehicle-add':\n",
    "            pass\n",
    "        else:\n",
    "            id_list.append(ids)\n",
    "\n",
    "    for i in id_list:\n",
    "        \n",
    "        try:\n",
    "            driver.find_element_by_xpath('//*[@id=\"{}\"]/div/div/div[1]/div/div/div/div/div/article[2]/a/figure'.format(i)).click()\n",
    "        except:\n",
    "            driver.find_element_by_xpath('//*[@id=\"{}\"]/div/div/div[1]/div/div/div/div/div/article[2]/a/figure'.format(i)).click()\n",
    "            \n",
    "        response = driver.page_source\n",
    "        soup = BeautifulSoup(response, \"html.parser\")\n",
    "        all_cars = soup.find_all(class_=\"vehicle__section vehicle__section--summary grey-bg\")\n",
    "        \n",
    "        all_cars[0].find_all(class_='column s50 m50 l50')\n",
    "        \n",
    "        car_brand = str(all_cars[0].find(class_='vehicle__subtitle h4')).split('<')[1].split('>')[-1].split(' ')[0]\n",
    "        car_model = str(all_cars[0].find(class_='vehicle__subtitle h4')).split('<')[1].split('>')[-1]\n",
    "        price = str(all_cars[0].find_all(class_='first_line')).split(',')[-1].split('<')[2].split('>')[-1].replace('\\xa0€', '').replace('.','').strip()\n",
    "        color = str(all_cars[0].find_all(class_='bodyBaseColor')).split('\"')[-2]\n",
    "        fuel = str(all_cars[0].find_all(class_='inline-block s70 m75 l80 text-left')).split(',')[1].split('<')[1].split('>')[-1]\n",
    "        transmission = str(all_cars[0].find_all(class_='inline-block s70 m75 l80 text-left')).split(',')[2].split('<')[1].split('>')[-1]\n",
    "        km = str(all_cars[0].find_all(class_='inline-block s70 m75 l80 text-left')).split(',')[3].split('<')[1].split('>')[-1].replace('.', '').strip('\\xa0km')\n",
    "        year = str(all_cars[0].find_all(class_='inline-block s70 m75 l80 text-left')).split(',')[4].split('<')[1].split('>')[-1]\n",
    "        power = str(all_cars[0].find_all(class_='inline-block s70 m75 l80 text-left')).split(',')[5].split('<')[1].split('>')[-1]\n",
    "        doors = str(all_cars[0].find_all(class_='inline-block s70 m75 l80 text-left')).split(',')[6].split('<')[1].split('>')[-1].strip(' Puertas')\n",
    "        seats = str(all_cars[0].find_all(class_='inline-block s70 m75 l80 text-left')).split(',')[7].split('<')[1].split('>')[-1].strip(' Plazas')\n",
    "        location = str(all_cars[0].find_all(class_='inline-block s70 m75 l80 text-left')).split(',')[8].split('<')[1].split('>')[-1]\n",
    "        \n",
    "        sleep(randint(2,5))\n",
    "        \n",
    "        new_row = {\n",
    "            'brand': car_brand,\n",
    "            'model': car_model,\n",
    "            'color': color,\n",
    "            'price': float(price),\n",
    "            'fuel': fuel,\n",
    "            'transmission': transmission,\n",
    "            'km': float(km),\n",
    "            'year': int(year),\n",
    "            'power': power,\n",
    "            'doors': int(doors),\n",
    "            'seats': int(seats),\n",
    "            'location': location\n",
    "        }\n",
    "        \n",
    "        df_cars = df_cars.append(new_row, ignore_index=True)\n",
    "        \n",
    "        driver.back()\n",
    "        \n",
    "    try:\n",
    "        driver.find_element_by_class_name('pagination__button--next').click()\n",
    "    except:\n",
    "        driver.find_element_by_class_name('pagination__button--next').click()"
   ]
  },
  {
   "cell_type": "code",
   "execution_count": null,
   "metadata": {},
   "outputs": [],
   "source": [
    "driver.quit()"
   ]
  },
  {
   "cell_type": "code",
   "execution_count": null,
   "metadata": {},
   "outputs": [],
   "source": [
    "df_cars"
   ]
  }
 ],
 "metadata": {
  "kernelspec": {
   "display_name": "Python 3",
   "language": "python",
   "name": "python3"
  },
  "language_info": {
   "codemirror_mode": {
    "name": "ipython",
    "version": 3
   },
   "file_extension": ".py",
   "mimetype": "text/x-python",
   "name": "python",
   "nbconvert_exporter": "python",
   "pygments_lexer": "ipython3",
   "version": "3.8.5"
  }
 },
 "nbformat": 4,
 "nbformat_minor": 4
}
